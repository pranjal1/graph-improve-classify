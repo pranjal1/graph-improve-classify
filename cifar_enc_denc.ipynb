{
 "cells": [
  {
   "cell_type": "code",
   "execution_count": 17,
   "metadata": {},
   "outputs": [],
   "source": [
    "import os\n",
    "import pickle\n",
    "from glob import glob\n",
    "from tqdm import tqdm\n",
    "\n",
    "import numpy as np\n",
    "try:\n",
    "    from matplotlib import pyplot as plt\n",
    "    MATPLOTLIB = True\n",
    "except:\n",
    "    MATPLOTLIB = False\n",
    "\n",
    "import torch    \n",
    "import torch.nn as nn\n",
    "from torch.utils.data import Dataset, DataLoader"
   ]
  },
  {
   "cell_type": "code",
   "execution_count": 10,
   "metadata": {},
   "outputs": [],
   "source": [
    "class CifarDataSet(Dataset):\n",
    "    def __init__(self, batch_dir_path, train=True):\n",
    "        super().__init__()\n",
    "        if not os.path.isdir(batch_dir_path):\n",
    "            raise FolderDoesNotExist(batch_dir_path)\n",
    "        all_batch_files = sorted(glob(f\"{batch_dir_path}/data_batch_*\"))\n",
    "        if not all_batch_files:\n",
    "            raise FileNotFoundError(f\"No data_batch_n files found in {batch_dir_path}\")\n",
    "\n",
    "        lst_imgs, lst_labels = [], []\n",
    "        if train:\n",
    "            # return the 1st n-1 batches for training\n",
    "            for fi_path in all_batch_files[:-1]:\n",
    "                i, l = self.unpickle(fi_path)\n",
    "                lst_imgs.append(i)\n",
    "                lst_labels.extend(l)\n",
    "            self.data = np.row_stack(lst_imgs).reshape((-1, 3, 32, 32))\n",
    "            self.labels = lst_labels\n",
    "        else:\n",
    "            # return the nth batch for testing\n",
    "            for fi_path in all_batch_files[-1:]:\n",
    "                i, l = self.unpickle(fi_path)\n",
    "                lst_imgs.append(i)\n",
    "                lst_labels.extend(l)\n",
    "            self.data = np.row_stack(lst_imgs).reshape((-1, 3, 32, 32))\n",
    "            self.labels = lst_labels\n",
    "\n",
    "    def unpickle(self, f):\n",
    "        with open(f, \"rb\") as fo:\n",
    "            dct = pickle.load(fo, encoding=\"bytes\")\n",
    "        # normalizing\n",
    "        return dct.get(b\"data\") / 255.0, dct.get(b\"labels\")\n",
    "\n",
    "    def get_image(self, index, plot=False):\n",
    "        i = self.data[index]\n",
    "        l = self.labels[index]\n",
    "        i = np.transpose(i, axes=(1, 2, 0))\n",
    "        if plot and MATPLOTLIB:\n",
    "            plt.imshow(i)\n",
    "        else:\n",
    "            return i\n",
    "\n",
    "    def __getitem__(self, index):\n",
    "        return (\n",
    "            self.data[index].astype(np.float32),\n",
    "            self.labels[index],\n",
    "        )\n",
    "\n",
    "    def __len__(self):\n",
    "        return self.data.shape[0]"
   ]
  },
  {
   "cell_type": "code",
   "execution_count": 11,
   "metadata": {},
   "outputs": [],
   "source": [
    "class AutoEncoder(nn.Module):\n",
    "    def __init__(self):\n",
    "        super(AutoEncoder, self).__init__()\n",
    "        keep_prob = 0.7\n",
    "        self.encoder_b1 = nn.Sequential(\n",
    "                    nn.Conv2d(in_channels=3, out_channels=64, kernel_size=3, padding=1),\n",
    "                    nn.ReLU(),\n",
    "                    nn.MaxPool2d(kernel_size=2, stride=2, return_indices=True),\n",
    "                )\n",
    "        self.encoder_b2 = nn.Sequential(\n",
    "                    nn.BatchNorm2d(num_features=64),\n",
    "                    nn.Conv2d(in_channels=64, out_channels=128, kernel_size=3, padding=1),\n",
    "                    nn.ReLU(),\n",
    "                    nn.MaxPool2d(kernel_size=2, stride=2, return_indices=True),\n",
    "                )\n",
    "        self.encoder_b3 = nn.Sequential(\n",
    "                    nn.BatchNorm2d(num_features=128),\n",
    "                    nn.Conv2d(in_channels=128, out_channels=256, kernel_size=3, padding=1),\n",
    "                    nn.ReLU(),\n",
    "                    nn.MaxPool2d(kernel_size=2, stride=2, return_indices=True),\n",
    "                )\n",
    "        self.encoder_b4 = nn.Sequential(\n",
    "                    nn.BatchNorm2d(num_features=256),\n",
    "                    nn.Conv2d(in_channels=256, out_channels=512, kernel_size=3, padding=1),\n",
    "                    nn.ReLU(),\n",
    "                    nn.MaxPool2d(kernel_size=2, stride=2, return_indices=True),\n",
    "                )\n",
    "        self.encoder_b5 = nn.Sequential(\n",
    "                    nn.BatchNorm2d(num_features=512),\n",
    "                    nn.Conv2d(in_channels=512, out_channels=1024, kernel_size=4, padding=1),\n",
    "                )\n",
    "\n",
    "\n",
    "        self.decoder_b1 = nn.Sequential(\n",
    "                nn.ConvTranspose2d(1024, 512, 4, padding=1),\n",
    "                nn.BatchNorm2d(num_features=512),\n",
    "                )\n",
    "        self.decoder_b2 = nn.MaxUnpool2d(kernel_size=2, stride=2,)\n",
    "        self.decoder_b3 = nn.Sequential(\n",
    "                nn.ReLU(),\n",
    "                nn.ConvTranspose2d(512, 256, 3, padding=1),\n",
    "                nn.BatchNorm2d(num_features=256),\n",
    "                )\n",
    "        self.decoder_b4 = nn.MaxUnpool2d(kernel_size=2, stride=2,)\n",
    "        self.decoder_b5 = nn.Sequential(\n",
    "                nn.ReLU(),\n",
    "                nn.ConvTranspose2d(256, 128, 3, padding=1),\n",
    "                nn.BatchNorm2d(num_features=128),\n",
    "                )\n",
    "        self.decoder_b6 = nn.MaxUnpool2d(kernel_size=2, stride=2,)\n",
    "        self.decoder_b7 = nn.Sequential(\n",
    "                nn.ReLU(),\n",
    "                nn.ConvTranspose2d(128, 64, 3, padding=1),\n",
    "                nn.BatchNorm2d(num_features=64),\n",
    "                )\n",
    "        self.decoder_b8 = nn.MaxUnpool2d(kernel_size=2, stride=2,)\n",
    "        self.decoder_b9 = nn.Sequential(\n",
    "                nn.ReLU(),\n",
    "                nn.ConvTranspose2d(64, 3, 3, padding=1),\n",
    "                )\n",
    "        \n",
    "    def forward(self, x):\n",
    "        op, i1 = self.encoder_b1(x)\n",
    "        op, i2 = self.encoder_b2(op)\n",
    "        op, i3 = self.encoder_b3(op)\n",
    "        op, i4 = self.encoder_b4(op)\n",
    "        op = self.encoder_b5(op)\n",
    "\n",
    "        op = self.decoder_b1(op)\n",
    "        op = self.decoder_b2(op, i4)\n",
    "        op = self.decoder_b3(op)\n",
    "        op = self.decoder_b4(op, i3)\n",
    "        op = self.decoder_b5(op)\n",
    "        op = self.decoder_b6(op, i2)\n",
    "        op = self.decoder_b7(op)\n",
    "        op = self.decoder_b8(op, i1)\n",
    "        op = self.decoder_b9(op)\n",
    "        return op"
   ]
  },
  {
   "cell_type": "code",
   "execution_count": 71,
   "metadata": {},
   "outputs": [],
   "source": [
    "def train(model, train_loader, num_epochs=5, batch_size=64, learning_rate=1e-3):\n",
    "    torch.manual_seed(42)\n",
    "    criterion = nn.MSELoss()  # mean square error loss\n",
    "    optimizer = torch.optim.Adam(\n",
    "        model.parameters(), lr=learning_rate, weight_decay=1e-5\n",
    "    ) \n",
    "    outputs = []\n",
    "    losses = []\n",
    "    for epoch in range(num_epochs):\n",
    "        for data in tqdm(train_loader):\n",
    "            img, _ = data\n",
    "            recon = model(img)\n",
    "            loss = criterion(recon, img)\n",
    "            loss.backward()\n",
    "            optimizer.step()\n",
    "            optimizer.zero_grad()\n",
    "            losses.append([epoch,float(loss)])\n",
    "\n",
    "        print(\"Epoch:{}, Loss:{:.4f}\".format(epoch + 1, float(loss)))\n",
    "        outputs.append((epoch, img, recon),)\n",
    "    return outputs, losses"
   ]
  },
  {
   "cell_type": "code",
   "execution_count": 72,
   "metadata": {},
   "outputs": [],
   "source": [
    "m = AutoEncoder()"
   ]
  },
  {
   "cell_type": "code",
   "execution_count": 73,
   "metadata": {},
   "outputs": [],
   "source": [
    "train_ds = CifarDataSet(\n",
    "            batch_dir_path=\"/home/pranjal/pytorch/Datasets/cifar-10-batches-py/\", train=True\n",
    "        )\n",
    "test_ds = CifarDataSet(\n",
    "    batch_dir_path=\"/home/pranjal/pytorch/Datasets/cifar-10-batches-py/\", train=False\n",
    ")"
   ]
  },
  {
   "cell_type": "code",
   "execution_count": 74,
   "metadata": {},
   "outputs": [],
   "source": [
    "tl = DataLoader(test_ds,batch_size=64)"
   ]
  },
  {
   "cell_type": "code",
   "execution_count": 75,
   "metadata": {},
   "outputs": [
    {
     "name": "stderr",
     "output_type": "stream",
     "text": [
      "100%|██████████| 157/157 [05:49<00:00,  2.23s/it]\n",
      "  0%|          | 0/157 [00:00<?, ?it/s]"
     ]
    },
    {
     "name": "stdout",
     "output_type": "stream",
     "text": [
      "Epoch:1, Loss:0.0805\n"
     ]
    },
    {
     "name": "stderr",
     "output_type": "stream",
     "text": [
      "100%|██████████| 157/157 [05:51<00:00,  2.24s/it]"
     ]
    },
    {
     "name": "stdout",
     "output_type": "stream",
     "text": [
      "Epoch:2, Loss:0.0389\n"
     ]
    },
    {
     "name": "stderr",
     "output_type": "stream",
     "text": [
      "\n"
     ]
    }
   ],
   "source": [
    "ops = train(m, tl, 2)"
   ]
  },
  {
   "cell_type": "code",
   "execution_count": 76,
   "metadata": {},
   "outputs": [],
   "source": [
    "import seaborn as sns\n",
    "import pandas as pd\n",
    "import matplotlib.pyplot as plt"
   ]
  },
  {
   "cell_type": "code",
   "execution_count": 88,
   "metadata": {},
   "outputs": [],
   "source": [
    "all_losses = []\n",
    "index = 0\n",
    "for i,x in ops[-1]:\n",
    "    all_losses.append({\"counter\":index,\"epoch\":i+1,\"iteration\":index+1,\"loss\":x})\n",
    "    index+=1"
   ]
  },
  {
   "cell_type": "code",
   "execution_count": 89,
   "metadata": {},
   "outputs": [],
   "source": [
    "loss_df = pd.DataFrame(all_losses)"
   ]
  },
  {
   "cell_type": "code",
   "execution_count": 90,
   "metadata": {},
   "outputs": [
    {
     "data": {
      "text/plain": [
       "<AxesSubplot:xlabel='counter', ylabel='loss'>"
      ]
     },
     "execution_count": 90,
     "metadata": {},
     "output_type": "execute_result"
    },
    {
     "data": {
      "image/png": "[encoded data removed]",
      "text/plain": [
       "<Figure size 1080x720 with 1 Axes>"
      ]
     },
     "metadata": {
      "needs_background": "light"
     },
     "output_type": "display_data"
    }
   ],
   "source": [
    "plt.figure(figsize=(15,10))\n",
    "sns.lineplot(data=loss_df,x=\"counter\",y=\"loss\",hue=\"epoch\",palette=sns.color_palette(\"bright\",n_colors=len(loss_df.epoch.unique())))"
   ]
  },
  {
   "cell_type": "code",
   "execution_count": 91,
   "metadata": {},
   "outputs": [],
   "source": [
    "imgs = ops[0][-1][1].reshape(-1,3,32,32).numpy()"
   ]
  },
  {
   "cell_type": "code",
   "execution_count": 92,
   "metadata": {},
   "outputs": [],
   "source": [
    "imgs = imgs.transpose(0,2,3,1)"
   ]
  },
  {
   "cell_type": "code",
   "execution_count": 93,
   "metadata": {},
   "outputs": [],
   "source": [
    "pred = ops[0][-1][2].reshape(-1,3,32,32).detach().numpy()"
   ]
  },
  {
   "cell_type": "code",
   "execution_count": 94,
   "metadata": {},
   "outputs": [],
   "source": [
    "pred = pred.transpose(0,2,3,1)"
   ]
  },
  {
   "cell_type": "code",
   "execution_count": 98,
   "metadata": {},
   "outputs": [],
   "source": [
    "index = 6"
   ]
  },
  {
   "cell_type": "code",
   "execution_count": 99,
   "metadata": {},
   "outputs": [
    {
     "data": {
      "text/plain": [
       "<matplotlib.image.AxesImage at 0x7f9d180f5730>"
      ]
     },
     "execution_count": 99,
     "metadata": {},
     "output_type": "execute_result"
    },
    {
     "data": {
      "image/png": "[encoded data removed]",
      "text/plain": [
       "<Figure size 432x288 with 1 Axes>"
      ]
     },
     "metadata": {
      "needs_background": "light"
     },
     "output_type": "display_data"
    }
   ],
   "source": [
    "plt.imshow(imgs[index])"
   ]
  },
  {
   "cell_type": "code",
   "execution_count": 100,
   "metadata": {},
   "outputs": [
    {
     "name": "stderr",
     "output_type": "stream",
     "text": [
      "Clipping input data to the valid range for imshow with RGB data ([0..1] for floats or [0..255] for integers).\n"
     ]
    },
    {
     "data": {
      "text/plain": [
       "<matplotlib.image.AxesImage at 0x7f9d1804ca00>"
      ]
     },
     "execution_count": 100,
     "metadata": {},
     "output_type": "execute_result"
    },
    {
     "data": {
      "image/png": "[encoded data removed]",
      "text/plain": [
       "<Figure size 432x288 with 1 Axes>"
      ]
     },
     "metadata": {
      "needs_background": "light"
     },
     "output_type": "display_data"
    }
   ],
   "source": [
    "plt.imshow(pred[index])"
   ]
  },
  {
   "cell_type": "code",
   "execution_count": null,
   "metadata": {},
   "outputs": [],
   "source": []
  }
 ],
 "metadata": {
  "kernelspec": {
   "display_name": "Python 3.8.5 64-bit ('gcn': conda)",
   "language": "python",
   "name": "python38564bitgcncondacb855bff8b454c0bbae31f8183fac245"
  },
  "language_info": {
   "codemirror_mode": {
    "name": "ipython",
    "version": 3
   },
   "file_extension": ".py",
   "mimetype": "text/x-python",
   "name": "python",
   "nbconvert_exporter": "python",
   "pygments_lexer": "ipython3",
   "version": "3.8.5"
  }
 },
 "nbformat": 4,
 "nbformat_minor": 4
}
