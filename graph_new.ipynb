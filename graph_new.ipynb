{
 "cells": [
  {
   "cell_type": "code",
   "execution_count": 1,
   "metadata": {},
   "outputs": [],
   "source": [
    "%reload_ext autoreload\n",
    "%autoreload 2"
   ]
  },
  {
   "cell_type": "code",
   "execution_count": 2,
   "metadata": {},
   "outputs": [],
   "source": [
    "from torch import nn\n",
    "import numpy as np"
   ]
  },
  {
   "cell_type": "code",
   "execution_count": 3,
   "metadata": {},
   "outputs": [],
   "source": [
    "from torch.utils.data import Dataset, DataLoader"
   ]
  },
  {
   "cell_type": "code",
   "execution_count": 4,
   "metadata": {},
   "outputs": [],
   "source": [
    "class EncodedDataset(Dataset):\n",
    "    def __init__(self, final_embeddings, final_labels):\n",
    "        super().__init__()\n",
    "        self.final_embeddings = final_embeddings\n",
    "        self.final_labels = final_labels\n",
    "    \n",
    "    def __getitem__(self, index):\n",
    "        return (\n",
    "            self.final_embeddings[index],\n",
    "            self.final_labels[index],\n",
    "        )\n",
    "\n",
    "    def __len__(self):\n",
    "        return self.final_embeddings.shape[0]"
   ]
  },
  {
   "cell_type": "markdown",
   "metadata": {},
   "source": [
    "# Autoencoder"
   ]
  },
  {
   "cell_type": "code",
   "execution_count": 5,
   "metadata": {},
   "outputs": [],
   "source": [
    "import torch\n",
    "from src.mnist_autoencoder import Autoencoder, train\n",
    "from torchvision import datasets, transforms\n",
    "from matplotlib import pyplot as plt"
   ]
  },
  {
   "cell_type": "code",
   "execution_count": 6,
   "metadata": {},
   "outputs": [],
   "source": [
    "mnist_data = datasets.MNIST(\n",
    "    \"data\", train=True, download=True, transform=transforms.ToTensor()\n",
    ")\n",
    "mnist_data_encoder = list(mnist_data)[:4096]"
   ]
  },
  {
   "cell_type": "code",
   "execution_count": 7,
   "metadata": {},
   "outputs": [],
   "source": [
    "train_loader = torch.utils.data.DataLoader(\n",
    "        mnist_data_encoder, batch_size=64, shuffle=True\n",
    "    )"
   ]
  },
  {
   "cell_type": "code",
   "execution_count": 8,
   "metadata": {},
   "outputs": [
    {
     "name": "stdout",
     "output_type": "stream",
     "text": [
      "Epoch:1, Loss:0.0735\n",
      "Epoch:2, Loss:0.0631\n",
      "Epoch:3, Loss:0.0541\n",
      "Epoch:4, Loss:0.0350\n",
      "Epoch:5, Loss:0.0247\n",
      "Epoch:6, Loss:0.0225\n",
      "Epoch:7, Loss:0.0180\n",
      "Epoch:8, Loss:0.0143\n",
      "Epoch:9, Loss:0.0131\n",
      "Epoch:10, Loss:0.0121\n",
      "Epoch:11, Loss:0.0131\n",
      "Epoch:12, Loss:0.0110\n",
      "Epoch:13, Loss:0.0098\n",
      "Epoch:14, Loss:0.0097\n",
      "Epoch:15, Loss:0.0086\n",
      "Epoch:16, Loss:0.0086\n",
      "Epoch:17, Loss:0.0076\n",
      "Epoch:18, Loss:0.0077\n",
      "Epoch:19, Loss:0.0070\n",
      "Epoch:20, Loss:0.0072\n"
     ]
    }
   ],
   "source": [
    "model = Autoencoder()\n",
    "max_epochs = 20\n",
    "outputs = train(model, train_loader, num_epochs=max_epochs)"
   ]
  },
  {
   "cell_type": "markdown",
   "metadata": {},
   "source": [
    "# Train and sample datasets"
   ]
  },
  {
   "cell_type": "code",
   "execution_count": 9,
   "metadata": {},
   "outputs": [],
   "source": [
    "sample_mnist_data_clf = list(mnist_data)[4096:4096*2]"
   ]
  },
  {
   "cell_type": "code",
   "execution_count": 10,
   "metadata": {},
   "outputs": [],
   "source": [
    "train_mnist_data_clf = list(mnist_data)[4096*2:int(4096*4)]"
   ]
  },
  {
   "cell_type": "markdown",
   "metadata": {},
   "source": [
    "# train"
   ]
  },
  {
   "cell_type": "code",
   "execution_count": 11,
   "metadata": {},
   "outputs": [],
   "source": [
    "from src.gat_classifier import Net"
   ]
  },
  {
   "cell_type": "code",
   "execution_count": 95,
   "metadata": {},
   "outputs": [],
   "source": [
    "n = Net(num_classes=10,\n",
    "        encoder_model=model,\n",
    "        sample_dataset=sample_mnist_data_clf,\n",
    "        train_dataset=train_mnist_data_clf,\n",
    "        num_epochs=50,\n",
    "        learning_rate=1e-3,\n",
    "        seed=42,\n",
    "        use_graph=True)"
   ]
  },
  {
   "cell_type": "code",
   "execution_count": 96,
   "metadata": {},
   "outputs": [
    {
     "name": "stderr",
     "output_type": "stream",
     "text": [
      "100%|██████████| 128/128 [00:07<00:00, 17.47it/s]\n",
      "100%|██████████| 128/128 [00:07<00:00, 16.46it/s]\n",
      "100%|██████████| 128/128 [00:07<00:00, 16.38it/s]\n",
      "100%|██████████| 128/128 [00:07<00:00, 16.42it/s]\n",
      "100%|██████████| 128/128 [00:07<00:00, 16.61it/s]\n",
      "100%|██████████| 128/128 [00:07<00:00, 16.59it/s]\n",
      "100%|██████████| 128/128 [00:07<00:00, 16.46it/s]\n",
      "100%|██████████| 128/128 [00:08<00:00, 15.73it/s]\n",
      "100%|██████████| 128/128 [00:08<00:00, 15.87it/s]\n",
      "100%|██████████| 128/128 [00:08<00:00, 15.83it/s]\n",
      "100%|██████████| 128/128 [00:08<00:00, 15.99it/s]\n",
      "100%|██████████| 128/128 [00:07<00:00, 16.54it/s]\n",
      "100%|██████████| 128/128 [00:07<00:00, 16.76it/s]\n",
      "100%|██████████| 128/128 [00:08<00:00, 15.76it/s]\n",
      "100%|██████████| 128/128 [00:08<00:00, 15.95it/s]\n",
      "100%|██████████| 128/128 [00:07<00:00, 16.77it/s]\n",
      "100%|██████████| 128/128 [00:07<00:00, 16.04it/s]\n",
      "100%|██████████| 128/128 [00:08<00:00, 15.92it/s]\n",
      "100%|██████████| 128/128 [00:07<00:00, 16.39it/s]\n",
      "100%|██████████| 128/128 [00:08<00:00, 15.72it/s]\n",
      "100%|██████████| 128/128 [00:08<00:00, 15.60it/s]\n",
      "100%|██████████| 128/128 [00:08<00:00, 15.65it/s]\n",
      "100%|██████████| 128/128 [00:08<00:00, 15.49it/s]\n",
      "100%|██████████| 128/128 [00:07<00:00, 17.73it/s]\n",
      "100%|██████████| 128/128 [00:07<00:00, 16.74it/s]\n",
      "100%|██████████| 128/128 [00:07<00:00, 17.33it/s]\n",
      "100%|██████████| 128/128 [00:07<00:00, 17.41it/s]\n",
      "100%|██████████| 128/128 [00:07<00:00, 16.05it/s]\n",
      "100%|██████████| 128/128 [00:08<00:00, 15.97it/s]\n",
      "100%|██████████| 128/128 [00:07<00:00, 16.11it/s]\n",
      "100%|██████████| 128/128 [00:07<00:00, 16.40it/s]\n",
      "100%|██████████| 128/128 [00:08<00:00, 15.59it/s]\n",
      "100%|██████████| 128/128 [00:08<00:00, 15.41it/s]\n",
      "100%|██████████| 128/128 [00:08<00:00, 15.91it/s]\n",
      "100%|██████████| 128/128 [00:08<00:00, 15.71it/s]\n",
      "100%|██████████| 128/128 [00:08<00:00, 15.92it/s]\n",
      "100%|██████████| 128/128 [00:07<00:00, 16.62it/s]\n",
      "100%|██████████| 128/128 [00:07<00:00, 17.85it/s]\n",
      "100%|██████████| 128/128 [00:07<00:00, 17.36it/s]\n",
      "100%|██████████| 128/128 [00:07<00:00, 16.70it/s]\n",
      "100%|██████████| 128/128 [00:08<00:00, 15.79it/s]\n",
      "100%|██████████| 128/128 [00:07<00:00, 16.42it/s]\n",
      "100%|██████████| 128/128 [00:07<00:00, 16.61it/s]\n",
      "100%|██████████| 128/128 [00:07<00:00, 16.67it/s]\n",
      "100%|██████████| 128/128 [00:07<00:00, 16.10it/s]\n",
      "100%|██████████| 128/128 [00:07<00:00, 16.18it/s]\n",
      "100%|██████████| 128/128 [00:08<00:00, 15.87it/s]\n",
      "100%|██████████| 128/128 [00:08<00:00, 15.91it/s]\n",
      "100%|██████████| 128/128 [00:08<00:00, 15.84it/s]\n",
      "100%|██████████| 128/128 [00:07<00:00, 16.35it/s]\n"
     ]
    }
   ],
   "source": [
    "loss = n.train()"
   ]
  },
  {
   "cell_type": "code",
   "execution_count": 97,
   "metadata": {},
   "outputs": [],
   "source": [
    "# torch.optim.Adam()"
   ]
  },
  {
   "cell_type": "code",
   "execution_count": 98,
   "metadata": {},
   "outputs": [],
   "source": [
    "import seaborn as sns\n",
    "import pandas as pd\n",
    "import matplotlib.pyplot as plt"
   ]
  },
  {
   "cell_type": "code",
   "execution_count": 99,
   "metadata": {},
   "outputs": [],
   "source": [
    "all_losses = []\n",
    "index = 0\n",
    "for i,x in enumerate(loss):\n",
    "    for j,y in enumerate(x):\n",
    "        all_losses.append({\"counter\":index,\"epoch\":i+1,\"iteration\":j+1,\"loss\":y})\n",
    "        index+=1"
   ]
  },
  {
   "cell_type": "code",
   "execution_count": 100,
   "metadata": {},
   "outputs": [],
   "source": [
    "loss_df = pd.DataFrame(all_losses)"
   ]
  },
  {
   "cell_type": "code",
   "execution_count": 101,
   "metadata": {},
   "outputs": [
    {
     "data": {
      "text/plain": [
       "<AxesSubplot:xlabel='counter', ylabel='loss'>"
      ]
     },
     "execution_count": 101,
     "metadata": {},
     "output_type": "execute_result"
    },
    {
     "data": {
      "image/png": "[encoded data removed]",
      "text/plain": [
       "<Figure size 1080x720 with 1 Axes>"
      ]
     },
     "metadata": {
      "needs_background": "light"
     },
     "output_type": "display_data"
    }
   ],
   "source": [
    "plt.figure(figsize=(15,10))\n",
    "sns.lineplot(data=loss_df,x=\"counter\",y=\"loss\",hue=\"epoch\",palette=sns.color_palette(\"bright\",n_colors=len(loss_df.epoch.unique())))"
   ]
  },
  {
   "cell_type": "code",
   "execution_count": null,
   "metadata": {},
   "outputs": [],
   "source": []
  },
  {
   "cell_type": "code",
   "execution_count": 102,
   "metadata": {},
   "outputs": [],
   "source": [
    "mnist_data_clf_test = list(mnist_data)[4096*5:4096*6]"
   ]
  },
  {
   "cell_type": "code",
   "execution_count": 103,
   "metadata": {},
   "outputs": [
    {
     "data": {
      "text/plain": [
       "4096"
      ]
     },
     "execution_count": 103,
     "metadata": {},
     "output_type": "execute_result"
    }
   ],
   "source": [
    "len(mnist_data_clf_test)"
   ]
  },
  {
   "cell_type": "code",
   "execution_count": 104,
   "metadata": {},
   "outputs": [],
   "source": [
    "clf_test_loader = n.get_encoding(mnist_data_clf_test,64)"
   ]
  },
  {
   "cell_type": "code",
   "execution_count": 105,
   "metadata": {},
   "outputs": [],
   "source": [
    "from tqdm import tqdm"
   ]
  },
  {
   "cell_type": "code",
   "execution_count": 106,
   "metadata": {},
   "outputs": [
    {
     "name": "stderr",
     "output_type": "stream",
     "text": [
      "100%|██████████| 64/64 [00:02<00:00, 21.74it/s]\n"
     ]
    }
   ],
   "source": [
    "res = []\n",
    "for data in tqdm(clf_test_loader):\n",
    "    img, label = data\n",
    "    recon = n.forward(img)\n",
    "#     print(recon)\n",
    "    _, preds = torch.max(recon, 1)\n",
    "    bool_tensor = preds == label\n",
    "    res.append(torch.stack([label,bool_tensor,preds],dim=1))"
   ]
  },
  {
   "cell_type": "code",
   "execution_count": 107,
   "metadata": {},
   "outputs": [],
   "source": [
    "all_res = torch.cat(res,dim=0)"
   ]
  },
  {
   "cell_type": "code",
   "execution_count": 108,
   "metadata": {},
   "outputs": [],
   "source": [
    "import numpy as np"
   ]
  },
  {
   "cell_type": "code",
   "execution_count": 109,
   "metadata": {},
   "outputs": [],
   "source": [
    "df_test_res = pd.DataFrame(all_res.numpy(),columns=[\"class\",\"res\",\"pred_class\"])"
   ]
  },
  {
   "cell_type": "code",
   "execution_count": 110,
   "metadata": {},
   "outputs": [
    {
     "data": {
      "text/html": [
       "<div>\n",
       "<style scoped>\n",
       "    .dataframe tbody tr th:only-of-type {\n",
       "        vertical-align: middle;\n",
       "    }\n",
       "\n",
       "    .dataframe tbody tr th {\n",
       "        vertical-align: top;\n",
       "    }\n",
       "\n",
       "    .dataframe thead th {\n",
       "        text-align: right;\n",
       "    }\n",
       "</style>\n",
       "<table border=\"1\" class=\"dataframe\">\n",
       "  <thead>\n",
       "    <tr style=\"text-align: right;\">\n",
       "      <th>Predicted</th>\n",
       "      <th>0</th>\n",
       "      <th>1</th>\n",
       "      <th>2</th>\n",
       "      <th>3</th>\n",
       "      <th>4</th>\n",
       "      <th>5</th>\n",
       "      <th>6</th>\n",
       "      <th>7</th>\n",
       "      <th>8</th>\n",
       "      <th>9</th>\n",
       "    </tr>\n",
       "    <tr>\n",
       "      <th>Actual</th>\n",
       "      <th></th>\n",
       "      <th></th>\n",
       "      <th></th>\n",
       "      <th></th>\n",
       "      <th></th>\n",
       "      <th></th>\n",
       "      <th></th>\n",
       "      <th></th>\n",
       "      <th></th>\n",
       "      <th></th>\n",
       "    </tr>\n",
       "  </thead>\n",
       "  <tbody>\n",
       "    <tr>\n",
       "      <th>0</th>\n",
       "      <td>382</td>\n",
       "      <td>1</td>\n",
       "      <td>0</td>\n",
       "      <td>0</td>\n",
       "      <td>0</td>\n",
       "      <td>0</td>\n",
       "      <td>2</td>\n",
       "      <td>0</td>\n",
       "      <td>9</td>\n",
       "      <td>1</td>\n",
       "    </tr>\n",
       "    <tr>\n",
       "      <th>1</th>\n",
       "      <td>1</td>\n",
       "      <td>439</td>\n",
       "      <td>4</td>\n",
       "      <td>1</td>\n",
       "      <td>0</td>\n",
       "      <td>1</td>\n",
       "      <td>1</td>\n",
       "      <td>1</td>\n",
       "      <td>8</td>\n",
       "      <td>0</td>\n",
       "    </tr>\n",
       "    <tr>\n",
       "      <th>2</th>\n",
       "      <td>4</td>\n",
       "      <td>2</td>\n",
       "      <td>399</td>\n",
       "      <td>8</td>\n",
       "      <td>3</td>\n",
       "      <td>1</td>\n",
       "      <td>4</td>\n",
       "      <td>3</td>\n",
       "      <td>4</td>\n",
       "      <td>4</td>\n",
       "    </tr>\n",
       "    <tr>\n",
       "      <th>3</th>\n",
       "      <td>4</td>\n",
       "      <td>1</td>\n",
       "      <td>6</td>\n",
       "      <td>384</td>\n",
       "      <td>0</td>\n",
       "      <td>21</td>\n",
       "      <td>0</td>\n",
       "      <td>3</td>\n",
       "      <td>8</td>\n",
       "      <td>2</td>\n",
       "    </tr>\n",
       "    <tr>\n",
       "      <th>4</th>\n",
       "      <td>2</td>\n",
       "      <td>1</td>\n",
       "      <td>4</td>\n",
       "      <td>1</td>\n",
       "      <td>367</td>\n",
       "      <td>1</td>\n",
       "      <td>2</td>\n",
       "      <td>1</td>\n",
       "      <td>4</td>\n",
       "      <td>21</td>\n",
       "    </tr>\n",
       "    <tr>\n",
       "      <th>5</th>\n",
       "      <td>5</td>\n",
       "      <td>0</td>\n",
       "      <td>0</td>\n",
       "      <td>4</td>\n",
       "      <td>2</td>\n",
       "      <td>361</td>\n",
       "      <td>4</td>\n",
       "      <td>0</td>\n",
       "      <td>8</td>\n",
       "      <td>1</td>\n",
       "    </tr>\n",
       "    <tr>\n",
       "      <th>6</th>\n",
       "      <td>2</td>\n",
       "      <td>0</td>\n",
       "      <td>0</td>\n",
       "      <td>0</td>\n",
       "      <td>1</td>\n",
       "      <td>9</td>\n",
       "      <td>392</td>\n",
       "      <td>0</td>\n",
       "      <td>6</td>\n",
       "      <td>0</td>\n",
       "    </tr>\n",
       "    <tr>\n",
       "      <th>7</th>\n",
       "      <td>0</td>\n",
       "      <td>2</td>\n",
       "      <td>1</td>\n",
       "      <td>1</td>\n",
       "      <td>0</td>\n",
       "      <td>1</td>\n",
       "      <td>1</td>\n",
       "      <td>392</td>\n",
       "      <td>7</td>\n",
       "      <td>3</td>\n",
       "    </tr>\n",
       "    <tr>\n",
       "      <th>8</th>\n",
       "      <td>0</td>\n",
       "      <td>7</td>\n",
       "      <td>1</td>\n",
       "      <td>8</td>\n",
       "      <td>1</td>\n",
       "      <td>5</td>\n",
       "      <td>6</td>\n",
       "      <td>1</td>\n",
       "      <td>347</td>\n",
       "      <td>6</td>\n",
       "    </tr>\n",
       "    <tr>\n",
       "      <th>9</th>\n",
       "      <td>4</td>\n",
       "      <td>2</td>\n",
       "      <td>0</td>\n",
       "      <td>3</td>\n",
       "      <td>4</td>\n",
       "      <td>1</td>\n",
       "      <td>1</td>\n",
       "      <td>6</td>\n",
       "      <td>6</td>\n",
       "      <td>368</td>\n",
       "    </tr>\n",
       "  </tbody>\n",
       "</table>\n",
       "</div>"
      ],
      "text/plain": [
       "Predicted    0    1    2    3    4    5    6    7    8    9\n",
       "Actual                                                     \n",
       "0          382    1    0    0    0    0    2    0    9    1\n",
       "1            1  439    4    1    0    1    1    1    8    0\n",
       "2            4    2  399    8    3    1    4    3    4    4\n",
       "3            4    1    6  384    0   21    0    3    8    2\n",
       "4            2    1    4    1  367    1    2    1    4   21\n",
       "5            5    0    0    4    2  361    4    0    8    1\n",
       "6            2    0    0    0    1    9  392    0    6    0\n",
       "7            0    2    1    1    0    1    1  392    7    3\n",
       "8            0    7    1    8    1    5    6    1  347    6\n",
       "9            4    2    0    3    4    1    1    6    6  368"
      ]
     },
     "execution_count": 110,
     "metadata": {},
     "output_type": "execute_result"
    }
   ],
   "source": [
    "confusion_matrix = pd.crosstab(df_test_res['class'], df_test_res['pred_class'], rownames=['Actual'], colnames=['Predicted'])\n",
    "confusion_matrix"
   ]
  },
  {
   "cell_type": "code",
   "execution_count": null,
   "metadata": {},
   "outputs": [],
   "source": []
  },
  {
   "cell_type": "code",
   "execution_count": null,
   "metadata": {},
   "outputs": [],
   "source": []
  }
 ],
 "metadata": {
  "kernelspec": {
   "display_name": "Python 3.8.5 64-bit ('gcn': conda)",
   "language": "python",
   "name": "python38564bitgcncondacb855bff8b454c0bbae31f8183fac245"
  },
  "language_info": {
   "codemirror_mode": {
    "name": "ipython",
    "version": 3
   },
   "file_extension": ".py",
   "mimetype": "text/x-python",
   "name": "python",
   "nbconvert_exporter": "python",
   "pygments_lexer": "ipython3",
   "version": "3.8.5"
  }
 },
 "nbformat": 4,
 "nbformat_minor": 4
}
