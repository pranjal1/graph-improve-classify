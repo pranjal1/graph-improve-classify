{
 "cells": [
  {
   "cell_type": "code",
   "execution_count": 1,
   "metadata": {},
   "outputs": [],
   "source": [
    "%reload_ext autoreload\n",
    "%autoreload 2"
   ]
  },
  {
   "cell_type": "code",
   "execution_count": 2,
   "metadata": {},
   "outputs": [],
   "source": [
    "from torch import nn\n",
    "import numpy as np"
   ]
  },
  {
   "cell_type": "code",
   "execution_count": 3,
   "metadata": {},
   "outputs": [],
   "source": [
    "from torch.utils.data import Dataset, DataLoader"
   ]
  },
  {
   "cell_type": "code",
   "execution_count": 4,
   "metadata": {},
   "outputs": [],
   "source": [
    "class EncodedDataset(Dataset):\n",
    "    def __init__(self, final_embeddings, final_labels):\n",
    "        super().__init__()\n",
    "        self.final_embeddings = final_embeddings\n",
    "        self.final_labels = final_labels\n",
    "    \n",
    "    def __getitem__(self, index):\n",
    "        return (\n",
    "            self.final_embeddings[index],\n",
    "            self.final_labels[index],\n",
    "        )\n",
    "\n",
    "    def __len__(self):\n",
    "        return self.final_embeddings.shape[0]"
   ]
  },
  {
   "cell_type": "markdown",
   "metadata": {},
   "source": [
    "# Autoencoder"
   ]
  },
  {
   "cell_type": "code",
   "execution_count": 5,
   "metadata": {},
   "outputs": [],
   "source": [
    "import torch\n",
    "from src.mnist_autoencoder import Autoencoder, train\n",
    "from torchvision import datasets, transforms\n",
    "from matplotlib import pyplot as plt"
   ]
  },
  {
   "cell_type": "code",
   "execution_count": 6,
   "metadata": {},
   "outputs": [],
   "source": [
    "mnist_data = datasets.MNIST(\n",
    "    \"data\", train=True, download=True, transform=transforms.ToTensor()\n",
    ")\n",
    "mnist_data_encoder = list(mnist_data)[:4096]"
   ]
  },
  {
   "cell_type": "code",
   "execution_count": 7,
   "metadata": {},
   "outputs": [],
   "source": [
    "train_loader = torch.utils.data.DataLoader(\n",
    "        mnist_data_encoder, batch_size=64, shuffle=True\n",
    "    )"
   ]
  },
  {
   "cell_type": "code",
   "execution_count": 8,
   "metadata": {},
   "outputs": [
    {
     "name": "stdout",
     "output_type": "stream",
     "text": [
      "Epoch:1, Loss:0.0735\n",
      "Epoch:2, Loss:0.0631\n",
      "Epoch:3, Loss:0.0541\n",
      "Epoch:4, Loss:0.0350\n",
      "Epoch:5, Loss:0.0247\n",
      "Epoch:6, Loss:0.0225\n",
      "Epoch:7, Loss:0.0180\n",
      "Epoch:8, Loss:0.0143\n",
      "Epoch:9, Loss:0.0131\n",
      "Epoch:10, Loss:0.0121\n",
      "Epoch:11, Loss:0.0131\n",
      "Epoch:12, Loss:0.0110\n",
      "Epoch:13, Loss:0.0098\n",
      "Epoch:14, Loss:0.0097\n",
      "Epoch:15, Loss:0.0086\n",
      "Epoch:16, Loss:0.0086\n",
      "Epoch:17, Loss:0.0076\n",
      "Epoch:18, Loss:0.0077\n",
      "Epoch:19, Loss:0.0070\n",
      "Epoch:20, Loss:0.0072\n"
     ]
    }
   ],
   "source": [
    "model = Autoencoder()\n",
    "max_epochs = 20\n",
    "outputs = train(model, train_loader, num_epochs=max_epochs)"
   ]
  },
  {
   "cell_type": "markdown",
   "metadata": {},
   "source": [
    "# Train and sample datasets"
   ]
  },
  {
   "cell_type": "code",
   "execution_count": 9,
   "metadata": {},
   "outputs": [],
   "source": [
    "sample_mnist_data_clf = list(mnist_data)[4096:4096*2]"
   ]
  },
  {
   "cell_type": "code",
   "execution_count": 10,
   "metadata": {},
   "outputs": [],
   "source": [
    "train_mnist_data_clf = list(mnist_data)[4096*2:int(4096*4)]"
   ]
  },
  {
   "cell_type": "markdown",
   "metadata": {},
   "source": [
    "# train"
   ]
  },
  {
   "cell_type": "code",
   "execution_count": 11,
   "metadata": {},
   "outputs": [],
   "source": [
    "from src.gat_classifier import Net"
   ]
  },
  {
   "cell_type": "code",
   "execution_count": 41,
   "metadata": {},
   "outputs": [],
   "source": [
    "n = Net(num_classes=10,\n",
    "        encoder_model=model,\n",
    "        sample_dataset=sample_mnist_data_clf,\n",
    "        train_dataset=train_mnist_data_clf,\n",
    "        num_epochs=20,\n",
    "        learning_rate=1e-3,\n",
    "        seed=42,\n",
    "        use_graph=True)"
   ]
  },
  {
   "cell_type": "code",
   "execution_count": 42,
   "metadata": {},
   "outputs": [
    {
     "name": "stderr",
     "output_type": "stream",
     "text": [
      "100%|██████████| 128/128 [00:07<00:00, 17.88it/s]\n",
      "100%|██████████| 128/128 [00:07<00:00, 18.06it/s]\n",
      "100%|██████████| 128/128 [00:07<00:00, 17.40it/s]\n",
      "100%|██████████| 128/128 [00:07<00:00, 17.63it/s]\n",
      "100%|██████████| 128/128 [00:07<00:00, 18.19it/s]\n",
      "100%|██████████| 128/128 [00:07<00:00, 17.75it/s]\n",
      "100%|██████████| 128/128 [00:07<00:00, 17.30it/s]\n",
      "100%|██████████| 128/128 [00:07<00:00, 17.66it/s]\n",
      "100%|██████████| 128/128 [00:07<00:00, 17.84it/s]\n",
      "100%|██████████| 128/128 [00:07<00:00, 17.50it/s]\n",
      "100%|██████████| 128/128 [00:07<00:00, 17.84it/s]\n",
      "100%|██████████| 128/128 [00:07<00:00, 17.85it/s]\n",
      "100%|██████████| 128/128 [00:07<00:00, 17.95it/s]\n",
      "100%|██████████| 128/128 [00:07<00:00, 17.85it/s]\n",
      "100%|██████████| 128/128 [00:07<00:00, 17.88it/s]\n",
      "100%|██████████| 128/128 [00:07<00:00, 17.13it/s]\n",
      "100%|██████████| 128/128 [00:07<00:00, 17.81it/s]\n",
      "100%|██████████| 128/128 [00:07<00:00, 17.87it/s]\n",
      "100%|██████████| 128/128 [00:07<00:00, 17.45it/s]\n",
      "100%|██████████| 128/128 [00:07<00:00, 17.91it/s]\n"
     ]
    }
   ],
   "source": [
    "loss = n.train()"
   ]
  },
  {
   "cell_type": "code",
   "execution_count": 43,
   "metadata": {},
   "outputs": [],
   "source": [
    "# torch.optim.Adam()"
   ]
  },
  {
   "cell_type": "code",
   "execution_count": 44,
   "metadata": {},
   "outputs": [],
   "source": [
    "import seaborn as sns\n",
    "import pandas as pd\n",
    "import matplotlib.pyplot as plt"
   ]
  },
  {
   "cell_type": "code",
   "execution_count": 45,
   "metadata": {},
   "outputs": [],
   "source": [
    "all_losses = []\n",
    "index = 0\n",
    "for i,x in enumerate(loss):\n",
    "    for j,y in enumerate(x):\n",
    "        all_losses.append({\"counter\":index,\"epoch\":i+1,\"iteration\":j+1,\"loss\":y})\n",
    "        index+=1"
   ]
  },
  {
   "cell_type": "code",
   "execution_count": 46,
   "metadata": {},
   "outputs": [],
   "source": [
    "loss_df = pd.DataFrame(all_losses)"
   ]
  },
  {
   "cell_type": "code",
   "execution_count": 47,
   "metadata": {},
   "outputs": [
    {
     "data": {
      "text/plain": [
       "<AxesSubplot:xlabel='counter', ylabel='loss'>"
      ]
     },
     "execution_count": 47,
     "metadata": {},
     "output_type": "execute_result"
    },
    {
     "data": {
      "image/png": "[encoded data removed]",
      "text/plain": [
       "<Figure size 1080x720 with 1 Axes>"
      ]
     },
     "metadata": {
      "needs_background": "light"
     },
     "output_type": "display_data"
    }
   ],
   "source": [
    "plt.figure(figsize=(15,10))\n",
    "sns.lineplot(data=loss_df,x=\"counter\",y=\"loss\",hue=\"epoch\",palette=sns.color_palette(\"bright\",n_colors=len(loss_df.epoch.unique())))"
   ]
  },
  {
   "cell_type": "code",
   "execution_count": null,
   "metadata": {},
   "outputs": [],
   "source": []
  },
  {
   "cell_type": "code",
   "execution_count": 233,
   "metadata": {},
   "outputs": [],
   "source": [
    "mnist_data_clf_test = list(mnist_data)[4096*5:4096*6]"
   ]
  },
  {
   "cell_type": "code",
   "execution_count": 234,
   "metadata": {},
   "outputs": [
    {
     "data": {
      "text/plain": [
       "4096"
      ]
     },
     "execution_count": 234,
     "metadata": {},
     "output_type": "execute_result"
    }
   ],
   "source": [
    "len(mnist_data_clf_test)"
   ]
  },
  {
   "cell_type": "code",
   "execution_count": 235,
   "metadata": {},
   "outputs": [],
   "source": [
    "clf_test_loader = n.get_encoding(mnist_data_clf_test,64)"
   ]
  },
  {
   "cell_type": "code",
   "execution_count": 236,
   "metadata": {},
   "outputs": [],
   "source": [
    "from tqdm import tqdm"
   ]
  },
  {
   "cell_type": "code",
   "execution_count": 237,
   "metadata": {},
   "outputs": [
    {
     "name": "stderr",
     "output_type": "stream",
     "text": [
      "  0%|          | 0/64 [00:00<?, ?it/s]\n"
     ]
    },
    {
     "ename": "RuntimeError",
     "evalue": "stack expects each tensor to be equal size, but got [64] at entry 0 and [1] at entry 2",
     "output_type": "error",
     "traceback": [
      "\u001b[0;31m---------------------------------------------------------------------------\u001b[0m",
      "\u001b[0;31mRuntimeError\u001b[0m                              Traceback (most recent call last)",
      "\u001b[0;32m<ipython-input-237-25dab71817a3>\u001b[0m in \u001b[0;36m<module>\u001b[0;34m\u001b[0m\n\u001b[1;32m      5\u001b[0m     \u001b[0m_\u001b[0m\u001b[0;34m,\u001b[0m \u001b[0mpreds\u001b[0m \u001b[0;34m=\u001b[0m \u001b[0mtorch\u001b[0m\u001b[0;34m.\u001b[0m\u001b[0mmax\u001b[0m\u001b[0;34m(\u001b[0m\u001b[0mrecon\u001b[0m\u001b[0;34m,\u001b[0m \u001b[0;36m1\u001b[0m\u001b[0;34m)\u001b[0m\u001b[0;34m\u001b[0m\u001b[0;34m\u001b[0m\u001b[0m\n\u001b[1;32m      6\u001b[0m     \u001b[0mbool_tensor\u001b[0m \u001b[0;34m=\u001b[0m \u001b[0mpreds\u001b[0m \u001b[0;34m==\u001b[0m \u001b[0mlabel\u001b[0m\u001b[0;34m\u001b[0m\u001b[0;34m\u001b[0m\u001b[0m\n\u001b[0;32m----> 7\u001b[0;31m     \u001b[0mres\u001b[0m\u001b[0;34m.\u001b[0m\u001b[0mappend\u001b[0m\u001b[0;34m(\u001b[0m\u001b[0mtorch\u001b[0m\u001b[0;34m.\u001b[0m\u001b[0mstack\u001b[0m\u001b[0;34m(\u001b[0m\u001b[0;34m[\u001b[0m\u001b[0mlabel\u001b[0m\u001b[0;34m,\u001b[0m\u001b[0mbool_tensor\u001b[0m\u001b[0;34m,\u001b[0m\u001b[0mpreds\u001b[0m\u001b[0;34m]\u001b[0m\u001b[0;34m,\u001b[0m\u001b[0mdim\u001b[0m\u001b[0;34m=\u001b[0m\u001b[0;36m1\u001b[0m\u001b[0;34m)\u001b[0m\u001b[0;34m)\u001b[0m\u001b[0;34m\u001b[0m\u001b[0;34m\u001b[0m\u001b[0m\n\u001b[0m",
      "\u001b[0;31mRuntimeError\u001b[0m: stack expects each tensor to be equal size, but got [64] at entry 0 and [1] at entry 2"
     ]
    }
   ],
   "source": [
    "res = []\n",
    "for data in tqdm(clf_test_loader):\n",
    "    img, label = data\n",
    "    recon = n.forward(img)\n",
    "    _, preds = torch.max(recon, 1)\n",
    "    bool_tensor = preds == label\n",
    "    res.append(torch.stack([label,bool_tensor,preds],dim=1))"
   ]
  },
  {
   "cell_type": "code",
   "execution_count": null,
   "metadata": {},
   "outputs": [],
   "source": [
    "all_res = torch.cat(res,dim=0)"
   ]
  },
  {
   "cell_type": "code",
   "execution_count": null,
   "metadata": {},
   "outputs": [],
   "source": [
    "import numpy as np"
   ]
  },
  {
   "cell_type": "code",
   "execution_count": null,
   "metadata": {},
   "outputs": [],
   "source": [
    "df_test_res = pd.DataFrame(all_res.numpy(),columns=[\"class\",\"res\",\"pred_class\"])"
   ]
  },
  {
   "cell_type": "code",
   "execution_count": null,
   "metadata": {},
   "outputs": [],
   "source": [
    "# df_test_res.groupby([\"class\",\"res\"]).agg({\"res\":len})"
   ]
  },
  {
   "cell_type": "code",
   "execution_count": null,
   "metadata": {},
   "outputs": [],
   "source": [
    "confusion_matrix = pd.crosstab(df_test_res['class'], df_test_res['pred_class'], rownames=['Actual'], colnames=['Predicted'])\n",
    "confusion_matrix"
   ]
  },
  {
   "cell_type": "code",
   "execution_count": null,
   "metadata": {},
   "outputs": [],
   "source": []
  }
 ],
 "metadata": {
  "kernelspec": {
   "display_name": "Python 3.8.5 64-bit ('gcn': conda)",
   "language": "python",
   "name": "python38564bitgcncondacb855bff8b454c0bbae31f8183fac245"
  },
  "language_info": {
   "codemirror_mode": {
    "name": "ipython",
    "version": 3
   },
   "file_extension": ".py",
   "mimetype": "text/x-python",
   "name": "python",
   "nbconvert_exporter": "python",
   "pygments_lexer": "ipython3",
   "version": "3.8.5"
  }
 },
 "nbformat": 4,
 "nbformat_minor": 4
}
