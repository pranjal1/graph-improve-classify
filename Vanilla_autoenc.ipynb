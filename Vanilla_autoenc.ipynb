{
 "cells": [
  {
   "cell_type": "code",
   "execution_count": 1,
   "metadata": {},
   "outputs": [],
   "source": [
    "%reload_ext autoreload\n",
    "%autoreload 2"
   ]
  },
  {
   "cell_type": "markdown",
   "metadata": {},
   "source": [
    "# Autoencoder"
   ]
  },
  {
   "cell_type": "code",
   "execution_count": 2,
   "metadata": {},
   "outputs": [],
   "source": [
    "import torch\n",
    "from src.mnist_autoencoder import Autoencoder, train\n",
    "from torchvision import datasets, transforms\n",
    "from matplotlib import pyplot as plt"
   ]
  },
  {
   "cell_type": "code",
   "execution_count": 3,
   "metadata": {},
   "outputs": [],
   "source": [
    "mnist_data = datasets.MNIST(\n",
    "    \"data\", train=True, download=True, transform=transforms.ToTensor()\n",
    ")\n",
    "mnist_data_encoder = list(mnist_data)[:4096]"
   ]
  },
  {
   "cell_type": "code",
   "execution_count": 4,
   "metadata": {},
   "outputs": [],
   "source": [
    "train_loader = torch.utils.data.DataLoader(\n",
    "        mnist_data_encoder, batch_size=64, shuffle=True\n",
    "    )"
   ]
  },
  {
   "cell_type": "code",
   "execution_count": 5,
   "metadata": {},
   "outputs": [
    {
     "name": "stdout",
     "output_type": "stream",
     "text": [
      "Epoch:1, Loss:0.0747\n",
      "Epoch:2, Loss:0.0650\n",
      "Epoch:3, Loss:0.0641\n",
      "Epoch:4, Loss:0.0436\n",
      "Epoch:5, Loss:0.0290\n",
      "Epoch:6, Loss:0.0246\n",
      "Epoch:7, Loss:0.0194\n",
      "Epoch:8, Loss:0.0151\n",
      "Epoch:9, Loss:0.0135\n",
      "Epoch:10, Loss:0.0124\n",
      "Epoch:11, Loss:0.0134\n",
      "Epoch:12, Loss:0.0114\n",
      "Epoch:13, Loss:0.0101\n",
      "Epoch:14, Loss:0.0096\n",
      "Epoch:15, Loss:0.0084\n",
      "Epoch:16, Loss:0.0085\n",
      "Epoch:17, Loss:0.0075\n",
      "Epoch:18, Loss:0.0076\n",
      "Epoch:19, Loss:0.0070\n",
      "Epoch:20, Loss:0.0069\n"
     ]
    }
   ],
   "source": [
    "model = Autoencoder()\n",
    "max_epochs = 20\n",
    "outputs = train(model, train_loader, num_epochs=max_epochs)"
   ]
  },
  {
   "cell_type": "code",
   "execution_count": 5,
   "metadata": {},
   "outputs": [],
   "source": [
    "# x1 = outputs[max_epochs-1][1][0,:,:,:] # first image\n",
    "# x2 = outputs[max_epochs-1][1][8,:,:,:] # second image\n",
    "# x = torch.stack([x1,x2])     # stack them together so we only call `encoder` once\n",
    "# embedding = model.encoder(x)\n",
    "# e1 = embedding[0] # embedding of first image\n",
    "# e2 = embedding[1] # embedding of second image"
   ]
  },
  {
   "cell_type": "code",
   "execution_count": 6,
   "metadata": {},
   "outputs": [],
   "source": [
    "# embedding_values = []\n",
    "# for i in range(0, 10):\n",
    "#     e = e1 * (i/10) + e2 * (10-i)/10\n",
    "#     embedding_values.append(e)\n",
    "# embedding_values = torch.stack(embedding_values)\n",
    "\n",
    "# recons = model.decoder(embedding_values)"
   ]
  },
  {
   "cell_type": "code",
   "execution_count": 7,
   "metadata": {},
   "outputs": [],
   "source": [
    "# imgs = outputs[max_epochs-1][1].detach().numpy()\n",
    "# plt.subplot(1, 2, 1)\n",
    "# plt.imshow(imgs[0][0])\n",
    "# plt.subplot(1, 2, 2)\n",
    "# plt.imshow(imgs[8][0])"
   ]
  },
  {
   "cell_type": "code",
   "execution_count": 8,
   "metadata": {},
   "outputs": [],
   "source": [
    "# plt.figure(figsize=(10, 2))\n",
    "# for i, recon in enumerate(recons.detach().numpy()):\n",
    "#     plt.subplot(2,10,i+1)\n",
    "#     plt.imshow(recon[0])\n",
    "# plt.subplot(2,10,11)\n",
    "# plt.imshow(imgs[8][0])\n",
    "# plt.subplot(2,10,20)\n",
    "# plt.imshow(imgs[0][0])"
   ]
  },
  {
   "cell_type": "code",
   "execution_count": 44,
   "metadata": {},
   "outputs": [],
   "source": [
    "mnist_data_clf = list(mnist_data)[4096:4096*3]"
   ]
  },
  {
   "cell_type": "code",
   "execution_count": 45,
   "metadata": {},
   "outputs": [
    {
     "data": {
      "text/plain": [
       "8192"
      ]
     },
     "execution_count": 45,
     "metadata": {},
     "output_type": "execute_result"
    }
   ],
   "source": [
    "len(mnist_data_clf)"
   ]
  },
  {
   "cell_type": "code",
   "execution_count": 46,
   "metadata": {},
   "outputs": [],
   "source": [
    "clf_train_loader = torch.utils.data.DataLoader(\n",
    "        mnist_data_clf, batch_size=64, shuffle=True\n",
    "    )"
   ]
  },
  {
   "cell_type": "code",
   "execution_count": 47,
   "metadata": {},
   "outputs": [],
   "source": [
    "all_enc_embeddings = []\n",
    "all_enc_labels = []\n",
    "for data, label in clf_train_loader:\n",
    "    embedding = model.encoder(data)\n",
    "    all_enc_embeddings.append(embedding)\n",
    "    all_enc_labels.append(label)"
   ]
  },
  {
   "cell_type": "code",
   "execution_count": 48,
   "metadata": {},
   "outputs": [],
   "source": [
    "embeddings_from_enc = torch.cat(all_enc_embeddings).detach()\n",
    "tgt_labels = torch.cat(all_enc_labels).detach()"
   ]
  },
  {
   "cell_type": "code",
   "execution_count": 49,
   "metadata": {},
   "outputs": [],
   "source": [
    "#make a custom Dataset class and then use dataloader"
   ]
  },
  {
   "cell_type": "code",
   "execution_count": 50,
   "metadata": {},
   "outputs": [],
   "source": [
    "from torch import nn\n",
    "import numpy as np"
   ]
  },
  {
   "cell_type": "code",
   "execution_count": 7,
   "metadata": {},
   "outputs": [],
   "source": [
    "from torch.utils.data import Dataset, DataLoader"
   ]
  },
  {
   "cell_type": "code",
   "execution_count": 52,
   "metadata": {},
   "outputs": [],
   "source": [
    "class EncodedDataset(Dataset):\n",
    "    def __init__(self, final_embeddings, final_labels):\n",
    "        super().__init__()\n",
    "        self.final_embeddings = final_embeddings\n",
    "        self.final_labels = final_labels\n",
    "    \n",
    "    def __getitem__(self, index):\n",
    "        return (\n",
    "            self.final_embeddings[index],\n",
    "            self.final_labels[index],\n",
    "        )\n",
    "\n",
    "    def __len__(self):\n",
    "        return self.final_embeddings.shape[0]"
   ]
  },
  {
   "cell_type": "code",
   "execution_count": 119,
   "metadata": {},
   "outputs": [],
   "source": [
    "ds = EncodedDataset(embeddings_from_enc, tgt_labels)"
   ]
  },
  {
   "cell_type": "code",
   "execution_count": 120,
   "metadata": {},
   "outputs": [],
   "source": [
    "clf_train_loader = DataLoader(\n",
    "        ds, batch_size=64, shuffle=True,\n",
    "    )"
   ]
  },
  {
   "cell_type": "code",
   "execution_count": 15,
   "metadata": {},
   "outputs": [],
   "source": [
    "lst =[1,2,3]\n",
    "i=iter(lst)"
   ]
  },
  {
   "cell_type": "code",
   "execution_count": 20,
   "metadata": {},
   "outputs": [
    {
     "ename": "StopIteration",
     "evalue": "",
     "output_type": "error",
     "traceback": [
      "\u001b[0;31m---------------------------------------------------------------------------\u001b[0m",
      "\u001b[0;31mStopIteration\u001b[0m                             Traceback (most recent call last)",
      "\u001b[0;32m<ipython-input-20-aa5506447029>\u001b[0m in \u001b[0;36m<module>\u001b[0;34m\u001b[0m\n\u001b[0;32m----> 1\u001b[0;31m \u001b[0mi\u001b[0m\u001b[0;34m.\u001b[0m\u001b[0m__next__\u001b[0m\u001b[0;34m(\u001b[0m\u001b[0;34m)\u001b[0m\u001b[0;34m\u001b[0m\u001b[0;34m\u001b[0m\u001b[0m\n\u001b[0m",
      "\u001b[0;31mStopIteration\u001b[0m: "
     ]
    }
   ],
   "source": [
    "i.__next__()"
   ]
  },
  {
   "cell_type": "markdown",
   "metadata": {},
   "source": [
    "# Vanilla Classifier"
   ]
  },
  {
   "cell_type": "code",
   "execution_count": 42,
   "metadata": {},
   "outputs": [],
   "source": [
    "from src.mnist_vanilla_classifier import VanillaClassifier, train"
   ]
  },
  {
   "cell_type": "code",
   "execution_count": 43,
   "metadata": {},
   "outputs": [],
   "source": [
    "clf = VanillaClassifier()"
   ]
  },
  {
   "cell_type": "code",
   "execution_count": 22,
   "metadata": {},
   "outputs": [],
   "source": [
    "from torchvision import datasets, transforms\n",
    "import numpy as np"
   ]
  },
  {
   "cell_type": "code",
   "execution_count": 45,
   "metadata": {},
   "outputs": [
    {
     "name": "stderr",
     "output_type": "stream",
     "text": [
      "100%|██████████| 128/128 [00:00<00:00, 438.83it/s]\n",
      "100%|██████████| 128/128 [00:00<00:00, 480.31it/s]\n",
      "100%|██████████| 128/128 [00:00<00:00, 497.08it/s]\n",
      "100%|██████████| 128/128 [00:00<00:00, 461.02it/s]\n",
      "100%|██████████| 128/128 [00:00<00:00, 486.01it/s]\n",
      "100%|██████████| 128/128 [00:00<00:00, 500.01it/s]\n",
      "100%|██████████| 128/128 [00:00<00:00, 492.65it/s]\n",
      "100%|██████████| 128/128 [00:00<00:00, 493.07it/s]\n",
      "100%|██████████| 128/128 [00:00<00:00, 512.65it/s]\n",
      "100%|██████████| 128/128 [00:00<00:00, 565.25it/s]\n",
      "100%|██████████| 128/128 [00:00<00:00, 476.48it/s]\n",
      "100%|██████████| 128/128 [00:00<00:00, 533.09it/s]\n",
      "100%|██████████| 128/128 [00:00<00:00, 485.80it/s]\n",
      "100%|██████████| 128/128 [00:00<00:00, 448.43it/s]\n",
      "100%|██████████| 128/128 [00:00<00:00, 497.32it/s]\n",
      "100%|██████████| 128/128 [00:00<00:00, 500.06it/s]\n",
      "100%|██████████| 128/128 [00:00<00:00, 511.11it/s]\n",
      "100%|██████████| 128/128 [00:00<00:00, 518.42it/s]\n",
      "100%|██████████| 128/128 [00:00<00:00, 477.82it/s]\n",
      "100%|██████████| 128/128 [00:00<00:00, 456.33it/s]\n",
      "100%|██████████| 128/128 [00:00<00:00, 455.13it/s]\n",
      "100%|██████████| 128/128 [00:00<00:00, 454.73it/s]\n",
      "100%|██████████| 128/128 [00:00<00:00, 412.17it/s]\n",
      "100%|██████████| 128/128 [00:00<00:00, 455.09it/s]\n",
      "100%|██████████| 128/128 [00:00<00:00, 426.84it/s]\n",
      "100%|██████████| 128/128 [00:00<00:00, 449.85it/s]\n",
      "100%|██████████| 128/128 [00:00<00:00, 417.48it/s]\n",
      "100%|██████████| 128/128 [00:00<00:00, 469.34it/s]\n",
      "100%|██████████| 128/128 [00:00<00:00, 431.76it/s]\n",
      "100%|██████████| 128/128 [00:00<00:00, 439.73it/s]\n",
      "100%|██████████| 128/128 [00:00<00:00, 454.44it/s]\n",
      "100%|██████████| 128/128 [00:00<00:00, 442.76it/s]\n",
      "100%|██████████| 128/128 [00:00<00:00, 439.61it/s]\n",
      "100%|██████████| 128/128 [00:00<00:00, 419.22it/s]\n",
      "100%|██████████| 128/128 [00:00<00:00, 435.65it/s]\n",
      "100%|██████████| 128/128 [00:00<00:00, 417.65it/s]\n",
      "100%|██████████| 128/128 [00:00<00:00, 437.89it/s]\n",
      "100%|██████████| 128/128 [00:00<00:00, 453.58it/s]\n",
      "100%|██████████| 128/128 [00:00<00:00, 443.62it/s]\n",
      "100%|██████████| 128/128 [00:00<00:00, 437.98it/s]\n",
      "100%|██████████| 128/128 [00:00<00:00, 411.07it/s]\n",
      "100%|██████████| 128/128 [00:00<00:00, 455.81it/s]\n",
      "100%|██████████| 128/128 [00:00<00:00, 467.42it/s]\n",
      "100%|██████████| 128/128 [00:00<00:00, 455.56it/s]\n",
      "100%|██████████| 128/128 [00:00<00:00, 441.86it/s]\n",
      "100%|██████████| 128/128 [00:00<00:00, 492.99it/s]\n",
      "100%|██████████| 128/128 [00:00<00:00, 478.49it/s]\n",
      "100%|██████████| 128/128 [00:00<00:00, 487.07it/s]\n",
      "100%|██████████| 128/128 [00:00<00:00, 490.28it/s]\n",
      "100%|██████████| 128/128 [00:00<00:00, 484.00it/s]\n"
     ]
    }
   ],
   "source": [
    "op = train(clf,clf_train_loader,50,64)"
   ]
  },
  {
   "cell_type": "code",
   "execution_count": 135,
   "metadata": {},
   "outputs": [],
   "source": [
    "import seaborn as sns\n",
    "import pandas as pd\n",
    "import matplotlib.pyplot as plt"
   ]
  },
  {
   "cell_type": "code",
   "execution_count": 141,
   "metadata": {},
   "outputs": [],
   "source": [
    "all_losses = []\n",
    "index = 0\n",
    "for i,x in enumerate(op):\n",
    "    for j,y in enumerate(x):\n",
    "        all_losses.append({\"counter\":index,\"epoch\":i+1,\"iteration\":j+1,\"loss\":y})\n",
    "        index+=1"
   ]
  },
  {
   "cell_type": "code",
   "execution_count": 142,
   "metadata": {},
   "outputs": [],
   "source": [
    "loss_df = pd.DataFrame(all_losses)"
   ]
  },
  {
   "cell_type": "code",
   "execution_count": 143,
   "metadata": {},
   "outputs": [
    {
     "data": {
      "text/plain": [
       "<AxesSubplot:xlabel='counter', ylabel='loss'>"
      ]
     },
     "execution_count": 143,
     "metadata": {},
     "output_type": "execute_result"
    },
    {
     "data": {
      "image/png": "[encoded data removed]",
      "text/plain": [
       "<Figure size 1080x720 with 1 Axes>"
      ]
     },
     "metadata": {},
     "output_type": "display_data"
    }
   ],
   "source": [
    "plt.figure(figsize=(15,10))\n",
    "sns.lineplot(data=loss_df,x=\"counter\",y=\"loss\",hue=\"epoch\",palette=sns.color_palette(\"bright\",n_colors=len(loss_df.epoch.unique())))"
   ]
  },
  {
   "cell_type": "markdown",
   "metadata": {},
   "source": [
    "# test dataset"
   ]
  },
  {
   "cell_type": "code",
   "execution_count": 185,
   "metadata": {},
   "outputs": [],
   "source": [
    "mnist_data_clf_test = list(mnist_data)[4096*3:4096*4]"
   ]
  },
  {
   "cell_type": "code",
   "execution_count": 186,
   "metadata": {},
   "outputs": [
    {
     "data": {
      "text/plain": [
       "4096"
      ]
     },
     "execution_count": 186,
     "metadata": {},
     "output_type": "execute_result"
    }
   ],
   "source": [
    "len(mnist_data_clf_test)"
   ]
  },
  {
   "cell_type": "code",
   "execution_count": 187,
   "metadata": {},
   "outputs": [],
   "source": [
    "clf_test_loader = torch.utils.data.DataLoader(\n",
    "        mnist_data_clf, batch_size=64, shuffle=True\n",
    "    )"
   ]
  },
  {
   "cell_type": "code",
   "execution_count": 188,
   "metadata": {},
   "outputs": [],
   "source": [
    "all_enc_embeddings = []\n",
    "all_enc_labels = []\n",
    "for data, label in clf_test_loader:\n",
    "    embedding = model.encoder(data)\n",
    "    all_enc_embeddings.append(embedding)\n",
    "    all_enc_labels.append(label)\n",
    "#     all_test_labels.append(torch.nn.functional.one_hot(label))"
   ]
  },
  {
   "cell_type": "code",
   "execution_count": 189,
   "metadata": {},
   "outputs": [],
   "source": [
    "embeddings_from_enc = torch.cat(all_enc_embeddings).detach()\n",
    "tgt_labels = torch.cat(all_enc_labels).detach()"
   ]
  },
  {
   "cell_type": "code",
   "execution_count": 190,
   "metadata": {},
   "outputs": [],
   "source": [
    "#make a custom Dataset class and then use dataloader"
   ]
  },
  {
   "cell_type": "code",
   "execution_count": 191,
   "metadata": {},
   "outputs": [],
   "source": [
    "ds_test = EncodedDataset(embeddings_from_enc, tgt_labels)"
   ]
  },
  {
   "cell_type": "code",
   "execution_count": 204,
   "metadata": {},
   "outputs": [],
   "source": [
    "clf_test_loader = DataLoader(\n",
    "        ds_test, batch_size=64, shuffle=True\n",
    "    )"
   ]
  },
  {
   "cell_type": "code",
   "execution_count": 206,
   "metadata": {},
   "outputs": [],
   "source": [
    "from tqdm import tqdm"
   ]
  },
  {
   "cell_type": "code",
   "execution_count": 226,
   "metadata": {},
   "outputs": [
    {
     "name": "stderr",
     "output_type": "stream",
     "text": [
      "  0%|          | 0/64 [00:00<?, ?it/s]/home/pranjal/miniconda3/envs/gcn/lib/python3.8/site-packages/torch/nn/modules/container.py:117: UserWarning: Implicit dimension choice for softmax has been deprecated. Change the call to include dim=X as an argument.\n",
      "  input = module(input)\n",
      "100%|██████████| 64/64 [00:00<00:00, 620.69it/s]\n"
     ]
    }
   ],
   "source": [
    "res = []\n",
    "for data in tqdm(clf_test_loader):\n",
    "    img, label = data\n",
    "    recon = clf(img)\n",
    "    _, preds = torch.max(recon, 1)\n",
    "    bool_tensor = preds == label\n",
    "    res.append(torch.stack([label,bool_tensor,preds],dim=1))"
   ]
  },
  {
   "cell_type": "code",
   "execution_count": 227,
   "metadata": {},
   "outputs": [],
   "source": [
    "all_res = torch.cat(res,dim=0)"
   ]
  },
  {
   "cell_type": "code",
   "execution_count": 228,
   "metadata": {},
   "outputs": [],
   "source": [
    "import numpy as np"
   ]
  },
  {
   "cell_type": "code",
   "execution_count": 230,
   "metadata": {},
   "outputs": [],
   "source": [
    "df_test_res = pd.DataFrame(all_res.numpy(),columns=[\"class\",\"res\",\"pred_class\"])"
   ]
  },
  {
   "cell_type": "code",
   "execution_count": 233,
   "metadata": {},
   "outputs": [],
   "source": [
    "# df_test_res.groupby([\"class\",\"res\"]).agg({\"res\":len})"
   ]
  },
  {
   "cell_type": "code",
   "execution_count": 238,
   "metadata": {},
   "outputs": [
    {
     "data": {
      "text/html": [
       "<div>\n",
       "<style scoped>\n",
       "    .dataframe tbody tr th:only-of-type {\n",
       "        vertical-align: middle;\n",
       "    }\n",
       "\n",
       "    .dataframe tbody tr th {\n",
       "        vertical-align: top;\n",
       "    }\n",
       "\n",
       "    .dataframe thead th {\n",
       "        text-align: right;\n",
       "    }\n",
       "</style>\n",
       "<table border=\"1\" class=\"dataframe\">\n",
       "  <thead>\n",
       "    <tr style=\"text-align: right;\">\n",
       "      <th>Predicted</th>\n",
       "      <th>0</th>\n",
       "      <th>1</th>\n",
       "      <th>2</th>\n",
       "      <th>3</th>\n",
       "      <th>4</th>\n",
       "      <th>5</th>\n",
       "      <th>6</th>\n",
       "      <th>7</th>\n",
       "      <th>8</th>\n",
       "      <th>9</th>\n",
       "    </tr>\n",
       "    <tr>\n",
       "      <th>Actual</th>\n",
       "      <th></th>\n",
       "      <th></th>\n",
       "      <th></th>\n",
       "      <th></th>\n",
       "      <th></th>\n",
       "      <th></th>\n",
       "      <th></th>\n",
       "      <th></th>\n",
       "      <th></th>\n",
       "      <th></th>\n",
       "    </tr>\n",
       "  </thead>\n",
       "  <tbody>\n",
       "    <tr>\n",
       "      <th>0</th>\n",
       "      <td>395</td>\n",
       "      <td>0</td>\n",
       "      <td>5</td>\n",
       "      <td>0</td>\n",
       "      <td>0</td>\n",
       "      <td>2</td>\n",
       "      <td>1</td>\n",
       "      <td>2</td>\n",
       "      <td>0</td>\n",
       "      <td>0</td>\n",
       "    </tr>\n",
       "    <tr>\n",
       "      <th>1</th>\n",
       "      <td>0</td>\n",
       "      <td>468</td>\n",
       "      <td>3</td>\n",
       "      <td>0</td>\n",
       "      <td>0</td>\n",
       "      <td>0</td>\n",
       "      <td>0</td>\n",
       "      <td>0</td>\n",
       "      <td>2</td>\n",
       "      <td>0</td>\n",
       "    </tr>\n",
       "    <tr>\n",
       "      <th>2</th>\n",
       "      <td>2</td>\n",
       "      <td>4</td>\n",
       "      <td>376</td>\n",
       "      <td>5</td>\n",
       "      <td>2</td>\n",
       "      <td>0</td>\n",
       "      <td>1</td>\n",
       "      <td>6</td>\n",
       "      <td>5</td>\n",
       "      <td>1</td>\n",
       "    </tr>\n",
       "    <tr>\n",
       "      <th>3</th>\n",
       "      <td>0</td>\n",
       "      <td>1</td>\n",
       "      <td>4</td>\n",
       "      <td>420</td>\n",
       "      <td>1</td>\n",
       "      <td>4</td>\n",
       "      <td>0</td>\n",
       "      <td>1</td>\n",
       "      <td>1</td>\n",
       "      <td>4</td>\n",
       "    </tr>\n",
       "    <tr>\n",
       "      <th>4</th>\n",
       "      <td>1</td>\n",
       "      <td>2</td>\n",
       "      <td>0</td>\n",
       "      <td>1</td>\n",
       "      <td>345</td>\n",
       "      <td>0</td>\n",
       "      <td>5</td>\n",
       "      <td>0</td>\n",
       "      <td>2</td>\n",
       "      <td>9</td>\n",
       "    </tr>\n",
       "    <tr>\n",
       "      <th>5</th>\n",
       "      <td>2</td>\n",
       "      <td>2</td>\n",
       "      <td>0</td>\n",
       "      <td>6</td>\n",
       "      <td>1</td>\n",
       "      <td>362</td>\n",
       "      <td>3</td>\n",
       "      <td>0</td>\n",
       "      <td>6</td>\n",
       "      <td>4</td>\n",
       "    </tr>\n",
       "    <tr>\n",
       "      <th>6</th>\n",
       "      <td>0</td>\n",
       "      <td>1</td>\n",
       "      <td>8</td>\n",
       "      <td>0</td>\n",
       "      <td>0</td>\n",
       "      <td>2</td>\n",
       "      <td>373</td>\n",
       "      <td>0</td>\n",
       "      <td>0</td>\n",
       "      <td>0</td>\n",
       "    </tr>\n",
       "    <tr>\n",
       "      <th>7</th>\n",
       "      <td>1</td>\n",
       "      <td>0</td>\n",
       "      <td>0</td>\n",
       "      <td>4</td>\n",
       "      <td>1</td>\n",
       "      <td>0</td>\n",
       "      <td>0</td>\n",
       "      <td>410</td>\n",
       "      <td>5</td>\n",
       "      <td>4</td>\n",
       "    </tr>\n",
       "    <tr>\n",
       "      <th>8</th>\n",
       "      <td>0</td>\n",
       "      <td>2</td>\n",
       "      <td>4</td>\n",
       "      <td>5</td>\n",
       "      <td>1</td>\n",
       "      <td>3</td>\n",
       "      <td>0</td>\n",
       "      <td>0</td>\n",
       "      <td>391</td>\n",
       "      <td>2</td>\n",
       "    </tr>\n",
       "    <tr>\n",
       "      <th>9</th>\n",
       "      <td>3</td>\n",
       "      <td>0</td>\n",
       "      <td>0</td>\n",
       "      <td>1</td>\n",
       "      <td>12</td>\n",
       "      <td>10</td>\n",
       "      <td>0</td>\n",
       "      <td>9</td>\n",
       "      <td>5</td>\n",
       "      <td>372</td>\n",
       "    </tr>\n",
       "  </tbody>\n",
       "</table>\n",
       "</div>"
      ],
      "text/plain": [
       "Predicted    0    1    2    3    4    5    6    7    8    9\n",
       "Actual                                                     \n",
       "0          395    0    5    0    0    2    1    2    0    0\n",
       "1            0  468    3    0    0    0    0    0    2    0\n",
       "2            2    4  376    5    2    0    1    6    5    1\n",
       "3            0    1    4  420    1    4    0    1    1    4\n",
       "4            1    2    0    1  345    0    5    0    2    9\n",
       "5            2    2    0    6    1  362    3    0    6    4\n",
       "6            0    1    8    0    0    2  373    0    0    0\n",
       "7            1    0    0    4    1    0    0  410    5    4\n",
       "8            0    2    4    5    1    3    0    0  391    2\n",
       "9            3    0    0    1   12   10    0    9    5  372"
      ]
     },
     "execution_count": 238,
     "metadata": {},
     "output_type": "execute_result"
    }
   ],
   "source": [
    "confusion_matrix = pd.crosstab(df_test_res['class'], df_test_res['pred_class'], rownames=['Actual'], colnames=['Predicted'])\n",
    "confusion_matrix"
   ]
  },
  {
   "cell_type": "code",
   "execution_count": null,
   "metadata": {},
   "outputs": [],
   "source": []
  }
 ],
 "metadata": {
  "kernelspec": {
   "display_name": "Python 3.8.5 64-bit ('gcn': conda)",
   "language": "python",
   "name": "python38564bitgcncondacb855bff8b454c0bbae31f8183fac245"
  },
  "language_info": {
   "codemirror_mode": {
    "name": "ipython",
    "version": 3
   },
   "file_extension": ".py",
   "mimetype": "text/x-python",
   "name": "python",
   "nbconvert_exporter": "python",
   "pygments_lexer": "ipython3",
   "version": "3.8.5"
  }
 },
 "nbformat": 4,
 "nbformat_minor": 4
}
